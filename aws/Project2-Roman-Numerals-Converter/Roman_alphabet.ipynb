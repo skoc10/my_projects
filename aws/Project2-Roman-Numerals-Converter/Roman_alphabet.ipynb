{
 "cells": [
  {
   "cell_type": "markdown",
   "id": "e571432f",
   "metadata": {},
   "source": [
    " Write program that converts the given number (between 1 and 3999) to the roman numerals. The program should convert only from numbers to Roman numerals, not vice versa and during the conversion following notes should be taken into consideration.\n",
    "\n",
    "- Roman numerals are represented by seven different symbols: I, V, X, L, C, D and M.\n",
    "   \n",
    "```\n",
    "Symbol        Value\n",
    "- I             1\n",
    "- V             5\n",
    "- X             10\n",
    "- L             50\n",
    "- C             100\n",
    "- D             500\n",
    "- M             1000\n",
    "```\n",
    "\n",
    "- Two is written as II in Roman numeral, just two one's added together. Twelve is written as, XII, which is simply X + II. The number twenty seven is written as XXVII, which is XX + V + II.\n",
    "\n",
    "- Roman numerals are usually written largest to smallest from left to right. However, the numeral for four is not IIII. Instead, the number four is written as IV. Because the one is before the five we subtract it making four. The same principle applies to the number nine, which is written as IX. \n",
    "\n",
    "- There are six instances where subtraction is used:\n",
    "  - I can be placed before V (5) and X (10) to make 4 and 9. \n",
    "  - X can be placed before L (50) and C (100) to make 40 and 90. \n",
    "  - C can be placed before D (500) and M (1000) to make 400 and 900.\n",
    "\n",
    "- Program should ask user for the input, after giving information text show as below.\n",
    "\n",
    "```text\n",
    "###  This program converts decimal numbers to Roman Numerals ###\n",
    "(To exit the program, please type \"exit\")\n",
    "Please enter a number between 1 and 3999, inclusively : \n",
    "```\n",
    "\n",
    "- User input can be either integer or string, thus the input should be checked for the followings,\n",
    "\n",
    "   - The input should be a decimal number within the range of 1 to 3999, inclusively.\n",
    "   \n",
    "   - If the input is less then 1 or greater then 3999, user should be warned and asked for input again.\n",
    "\n",
    "   - If the input is string and can not be converted to decimal number, user should be warned and asked for input again.\n",
    "\n",
    "- Program should run until the user types `exit` in case insensitive manner.\n",
    "   \n",
    "- Example for user inputs and respective outputs\n",
    "\n",
    "```\n",
    "Input       Output\n",
    "-----       ------\n",
    "3           III\n",
    "9           IX\n",
    "58          LVIII\n",
    "1994        MCMXCIV\n",
    "-8          \"Not Valid Input !!!\"\n",
    "4500        \"Not Valid Input !!!\"\n",
    "Ten         \"Not Valid Input !!!\"\n",
    "Exit        \"Exiting the program... Good Bye\"\n",
    "```"
   ]
  },
  {
   "cell_type": "code",
   "execution_count": 16,
   "id": "bdbfbc22",
   "metadata": {},
   "outputs": [],
   "source": [
    "romannum = {1:'I', 5:'V', 10:'X', 50:'L', 500:'D', 1000:'M'}\n"
   ]
  },
  {
   "cell_type": "code",
   "execution_count": 18,
   "id": "1ae2d4d7",
   "metadata": {},
   "outputs": [
    {
     "data": {
      "text/plain": [
       "'I'"
      ]
     },
     "execution_count": 18,
     "metadata": {},
     "output_type": "execute_result"
    }
   ],
   "source": [
    "romannum[1]\n"
   ]
  },
  {
   "cell_type": "code",
   "execution_count": 12,
   "id": "cf598bb1",
   "metadata": {},
   "outputs": [],
   "source": [
    "num = 4"
   ]
  },
  {
   "cell_type": "code",
   "execution_count": 4,
   "id": "515c1163",
   "metadata": {},
   "outputs": [
    {
     "data": {
      "text/plain": [
       "1"
      ]
     },
     "execution_count": 4,
     "metadata": {},
     "output_type": "execute_result"
    }
   ],
   "source": [
    "inp = str(num)\n",
    "len(inp)"
   ]
  },
  {
   "cell_type": "code",
   "execution_count": 5,
   "id": "1800142d",
   "metadata": {},
   "outputs": [
    {
     "name": "stdout",
     "output_type": "stream",
     "text": [
      "IX\n"
     ]
    }
   ],
   "source": [
    "# romannum = {1:'I', 5:'V', 10:'X', 50:'L', 500:'D', 1000:'M'}\n",
    "# num = 7\n",
    "# inp = str(num)\n",
    "romannum = {1:'I', 5:'V', 10:'X', 50:'L', 500:'D', 1000:'M'}\n",
    "def onedigit(x):\n",
    "    x = str(x)\n",
    "    if x == '4': print(romannum[1]+romannum[5])\n",
    "    if x == '5': print(romannum[5])\n",
    "    if x == '6': print(romannum[5]+romannum[1])\n",
    "    if x == '7': print(romannum[5]+romannum[1]*2)\n",
    "    if x == '8': print(romannum[5]+romannum[1]*3)\n",
    "    if x == '9': print(romannum[1]+romannum[10])\n",
    "    if x == '1': print(romannum[1])\n",
    "    if x == '2': print(romannum[1]*2)  \n",
    "    if x == '3': print(romannum[1]*3) \n",
    "def twodigit(y):\n",
    "    y = str(y)\n",
    "    \n",
    "    \n",
    "\n",
    "        \n",
    "onedigit(9)\n",
    "# for i in inp:\n",
    "# if len(inp) == 1:  \n",
    "        \n",
    "            \n",
    "        \n",
    "        \n",
    "#     elif len(inp) == 2:\n",
    "#         if \n",
    "#     else:\n",
    "#         print('yanlis')"
   ]
  },
  {
   "cell_type": "code",
   "execution_count": 15,
   "id": "66fab3b3",
   "metadata": {},
   "outputs": [
    {
     "name": "stdout",
     "output_type": "stream",
     "text": [
      "4\n"
     ]
    }
   ],
   "source": [
    "strn = '4'\n",
    "for i in strn:\n",
    "    print(i)"
   ]
  },
  {
   "cell_type": "code",
   "execution_count": 2,
   "id": "577a743b",
   "metadata": {},
   "outputs": [
    {
     "name": "stdout",
     "output_type": "stream",
     "text": [
      "\n",
      "Exiting the program... Good Bye\n"
     ]
    },
    {
     "data": {
      "text/plain": [
       "'DCXLV'"
      ]
     },
     "execution_count": 2,
     "metadata": {},
     "output_type": "execute_result"
    }
   ],
   "source": [
    "# convert the given number to the roman numerals\n",
    "def convert(decimal_num):\n",
    "    # set the dictionary for roman numerals\n",
    "    roman = {1000: 'M', 900: 'CM', 500: 'D', 400: 'CD', 100: 'C', 90: 'XC',\n",
    "             50: 'L', 40: 'XL', 10: 'X', 9: 'IX', 5: 'V', 4: 'IV', 1: 'I'}\n",
    "    # initialize the result variable\n",
    "    num_to_roman = ''\n",
    "    # loop the roman numerals, calculate for each symbol and add to the result\n",
    "    for i in roman.keys():\n",
    "        num_to_roman += roman[i] * (decimal_num // i)\n",
    "        decimal_num %= i\n",
    "    return num_to_roman\n",
    "\n",
    "# flag to show warning to the user, default is False.\n",
    "is_invalid = False\n",
    "\n",
    "# start endless loop to get user input continuously\n",
    "while True:\n",
    "    # info text to be shown to the user\n",
    "    info = \"\"\"\n",
    "###  This program converts decimal numbers to Roman Numerals ###\n",
    "(To exit the program, please type \"exit\")\n",
    "Please enter a number between 1 and 3999, inclusively : \"\"\"\n",
    "\n",
    "    # get the user input after showing info text.\n",
    "    # if is_invalid set to True then show additional warning to the user\n",
    "    # pass the input the alphanum variable after stripping white space characters\n",
    "    alphanum = input('\\nNot Valid Input !!!\\n'*is_invalid + info).strip()\n",
    "    # if the input is not decimal number\n",
    "    if not alphanum.isdecimal():\n",
    "        # then check, if it is the \"exit\" keyword\n",
    "        if alphanum.lower() == 'exit':\n",
    "            # if it is \"exit\", then say goodbye and terminate the program\n",
    "            print('\\nExiting the program... Good Bye')\n",
    "            break\n",
    "        # if it is a strint other than \"exit\"\n",
    "        else:\n",
    "            # then set to invalid flag to True to show warning and continue with next cycle\n",
    "            is_invalid = True\n",
    "            continue\n",
    "    # convert the given string to the integer\n",
    "    number = int(alphanum)\n",
    "    # if the number is between 1 and 3999, inclusively\n",
    "    if 0 < number < 4000:\n",
    "        # then convert to roman numerals and print out the user\n",
    "        print(\n",
    "            f'\\nRoman numerals representation of decimal number \"{alphanum}\"\" is equal to {convert(number)}')\n",
    "        # and set invalid flag to the False, it might be set the True in previous cycle\n",
    "        is_invalid = False\n",
    "    # if the number is out of bounds\n",
    "    else:\n",
    "        # then set to invalid flag to True to show warning\n",
    "        is_invalid = True\n",
    "\n",
    "convert(645)"
   ]
  },
  {
   "cell_type": "code",
   "execution_count": null,
   "id": "98d7fdee",
   "metadata": {},
   "outputs": [],
   "source": []
  }
 ],
 "metadata": {
  "interpreter": {
   "hash": "bf18297ba29ab59974e3cde921359bf4732846305eb0ebd212cf3897d725727a"
  },
  "kernelspec": {
   "display_name": "Python 3.9.7 64-bit",
   "name": "python3"
  },
  "language_info": {
   "codemirror_mode": {
    "name": "ipython",
    "version": 3
   },
   "file_extension": ".py",
   "mimetype": "text/x-python",
   "name": "python",
   "nbconvert_exporter": "python",
   "pygments_lexer": "ipython3",
   "version": "3.9.7"
  }
 },
 "nbformat": 4,
 "nbformat_minor": 5
}
